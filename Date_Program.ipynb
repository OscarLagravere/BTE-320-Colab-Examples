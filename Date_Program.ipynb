{
  "nbformat": 4,
  "nbformat_minor": 0,
  "metadata": {
    "colab": {
      "provenance": [],
      "authorship_tag": "ABX9TyPongBRzyGI9aWisjep05Mf",
      "include_colab_link": true
    },
    "kernelspec": {
      "name": "python3",
      "display_name": "Python 3"
    },
    "language_info": {
      "name": "python"
    }
  },
  "cells": [
    {
      "cell_type": "markdown",
      "metadata": {
        "id": "view-in-github",
        "colab_type": "text"
      },
      "source": [
        "<a href=\"https://colab.research.google.com/github/OscarLagravere/BTE-320-Colab-Examples/blob/main/Date_Program.ipynb\" target=\"_parent\"><img src=\"https://colab.research.google.com/assets/colab-badge.svg\" alt=\"Open In Colab\"/></a>"
      ]
    },
    {
      "cell_type": "code",
      "execution_count": null,
      "metadata": {
        "id": "wLU_AzMMMCMq"
      },
      "outputs": [],
      "source": [
        "date = input(\"Enter date (format: MM/DD/YYYY): \")\n",
        "\n",
        "month = date[0:2]\n",
        "day = date[3:5]\n",
        "year = date[6:10]\n",
        "\n",
        "print(f'The month is {month}')\n",
        "print(f'The day is {day}')\n",
        "print(f'The year is {year}')"
      ]
    }
  ]
}