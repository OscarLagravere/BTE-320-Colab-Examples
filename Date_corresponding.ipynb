{
  "nbformat": 4,
  "nbformat_minor": 0,
  "metadata": {
    "colab": {
      "provenance": [],
      "authorship_tag": "ABX9TyOSComGX9rxbiHEKwmQxgI+",
      "include_colab_link": true
    },
    "kernelspec": {
      "name": "python3",
      "display_name": "Python 3"
    },
    "language_info": {
      "name": "python"
    }
  },
  "cells": [
    {
      "cell_type": "markdown",
      "metadata": {
        "id": "view-in-github",
        "colab_type": "text"
      },
      "source": [
        "<a href=\"https://colab.research.google.com/github/OscarLagravere/BTE-320-Colab-Examples/blob/main/Date_corresponding.ipynb\" target=\"_parent\"><img src=\"https://colab.research.google.com/assets/colab-badge.svg\" alt=\"Open In Colab\"/></a>"
      ]
    },
    {
      "cell_type": "code",
      "execution_count": null,
      "metadata": {
        "id": "cGzd3xzTxfDt"
      },
      "outputs": [],
      "source": [
        "#Write a program that takes as input from the keyboard a tring that corresponds a date (e.g., 02/20/2024) in the format: MM/DD/YYYY\n",
        "def is_valid_date(date_str):\n",
        "    try:\n",
        "        # Split the input date string by '/'\n",
        "        month, day, year = map(int, date_str.split('/'))\n",
        "\n",
        "        # Check if the month is between 1 and 12\n",
        "        if month < 1 or month > 12:\n",
        "            return False\n",
        "\n",
        "        # Check if the day is between 1 and 31 (based on the maximum days in a month)\n",
        "        if month in [1, 3, 5, 7, 8, 10, 12]:\n",
        "            if day < 1 or day > 31:\n",
        "                return False\n",
        "        elif month in [4, 6, 9, 11]:\n",
        "            if day < 1 or day > 30:\n",
        "                return False\n",
        "        elif month == 2:\n",
        "            # Check for leap year\n",
        "            if (year % 4 == 0 and year % 100 != 0) or (year % 400 == 0):\n",
        "                if day < 1 or day > 29:\n",
        "                    return False\n",
        "            else:\n",
        "                if day < 1 or day > 28:\n",
        "                    return False\n",
        "\n",
        "        # Check if the year is a valid positive number\n",
        "        if year < 1:\n",
        "            return False\n",
        "\n",
        "        return True\n",
        "    except ValueError:\n",
        "        return False\n",
        "\n",
        "# Main function\n",
        "def main():\n",
        "    date_input = input(\"Enter a date in the format MM/DD/YYYY: \")\n",
        "\n",
        "    if is_valid_date(date_input):\n",
        "        print(f\"The date {date_input} is valid.\")\n",
        "    else:\n",
        "        print(f\"The date {date_input} is invalid.\")\n",
        "\n",
        "if __name__ == \"__main__\":\n",
        "    main()\n",
        ""
      ]
    }
  ]
}