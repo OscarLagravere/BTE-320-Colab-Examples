{
  "nbformat": 4,
  "nbformat_minor": 0,
  "metadata": {
    "colab": {
      "provenance": [],
      "authorship_tag": "ABX9TyOjq6Rp2mxAz2HA/NueXVZG",
      "include_colab_link": true
    },
    "kernelspec": {
      "name": "python3",
      "display_name": "Python 3"
    },
    "language_info": {
      "name": "python"
    }
  },
  "cells": [
    {
      "cell_type": "markdown",
      "metadata": {
        "id": "view-in-github",
        "colab_type": "text"
      },
      "source": [
        "<a href=\"https://colab.research.google.com/github/OscarLagravere/BTE-320-Colab-Examples/blob/main/Designing_a_Calculator.ipynb\" target=\"_parent\"><img src=\"https://colab.research.google.com/assets/colab-badge.svg\" alt=\"Open In Colab\"/></a>"
      ]
    },
    {
      "cell_type": "code",
      "execution_count": 14,
      "metadata": {
        "colab": {
          "base_uri": "https://localhost:8080/"
        },
        "id": "wFl03DfzlTjS",
        "outputId": "c0b1183d-d1f2-401b-8463-e82fd488aded"
      },
      "outputs": [
        {
          "output_type": "stream",
          "name": "stdout",
          "text": [
            "Enter the first number (or 'break' to exit): 3\n",
            "Enter the operator (+, -, *, **, /, //, %): *\n",
            "Enter the second number: 4\n",
            "Result: 12.0\n",
            "Enter the first number (or 'break' to exit): break\n",
            "Exiting the calculator.\n"
          ]
        }
      ],
      "source": [
        "#Design a Calculator\n",
        "#The calculator once starts, cannot stop unless the user chooses to (hint: infinate loop)\n",
        "#Implement all numerical operators that we discussed (+,-,*,**,/,//,%)\n",
        "#The user has to provide numbers and the desired operator from the keyboard; then, the calculator will display the result\n",
        "#(Use three seperate calls to function input() for each one of the inputs)\n",
        "#Numbers: int or float, operator: str\n",
        "#The calculator stops if the user enters thr word \"break\" instead of an operator; it skips an interation if the user gives an operator that is not numerical\n",
        "\n",
        "# Define the calculator function\n",
        "def calculator():\n",
        "    while True:\n",
        "        num1 = input(\"Enter the first number (or 'break' to exit): \")\n",
        "\n",
        "        # Check if the user wants to exit\n",
        "        if num1.lower() == 'break':\n",
        "            print(\"Exiting the calculator.\")\n",
        "            break\n",
        "\n",
        "        # Convert input to float\n",
        "        try:\n",
        "            num1 = float(num1)\n",
        "        except ValueError:\n",
        "            print(\"Invalid input. Please enter a number or 'break' to exit.\")\n",
        "            continue\n",
        "\n",
        "        operator = input(\"Enter the operator (+, -, *, **, /, //, %): \")\n",
        "\n",
        "        # Check if the user wants to exit\n",
        "        if operator.lower() == 'break':\n",
        "            print(\"Exiting the calculator.\")\n",
        "            break\n",
        "\n",
        "        # Check if the operator is valid\n",
        "        if operator not in ['+', '-', '*', '**', '/', '//', '%']:\n",
        "            print(\"Invalid operator. Please enter a valid operator.\")\n",
        "            continue\n",
        "\n",
        "        num2 = input(\"Enter the second number: \")\n",
        "\n",
        "        # Check if the user wants to exit\n",
        "        if num2.lower() == 'break':\n",
        "            print(\"Exiting the calculator.\")\n",
        "            break\n",
        "\n",
        "        # Convert input to float\n",
        "        try:\n",
        "            num2 = float(num2)\n",
        "        except ValueError:\n",
        "            print(\"Invalid input. Please enter a number or 'break' to exit.\")\n",
        "            continue\n",
        "\n",
        "        # Perform calculation based on operator\n",
        "        if operator == '+':\n",
        "            result = num1 + num2\n",
        "        elif operator == '-':\n",
        "            result = num1 - num2\n",
        "        elif operator == '*':\n",
        "            result = num1 * num2\n",
        "        elif operator == '**':\n",
        "            result = num1 ** num2\n",
        "        elif operator == '/':\n",
        "            if num2 != 0:\n",
        "                result = num1 / num2\n",
        "            else:\n",
        "                print(\"Error: Cannot divide by zero.\")\n",
        "                continue\n",
        "        elif operator == '//':\n",
        "            if num2 != 0:\n",
        "                result = num1 // num2\n",
        "            else:\n",
        "                print(\"Error: Cannot divide by zero.\")\n",
        "                continue\n",
        "        elif operator == '%':\n",
        "            if num2 != 0:\n",
        "                result = num1 % num2\n",
        "            else:\n",
        "                print(\"Error: Cannot divide by zero.\")\n",
        "                continue\n",
        "\n",
        "        print(\"Result:\", result)\n",
        "\n",
        "# Call the calculator function to start the calculator\n",
        "calculator()"
      ]
    }
  ]
}