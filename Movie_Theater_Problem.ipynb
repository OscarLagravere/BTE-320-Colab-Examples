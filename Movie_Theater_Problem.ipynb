{
  "nbformat": 4,
  "nbformat_minor": 0,
  "metadata": {
    "colab": {
      "provenance": [],
      "authorship_tag": "ABX9TyP2SYgfMJtMaKYFLpDieuOo",
      "include_colab_link": true
    },
    "kernelspec": {
      "name": "python3",
      "display_name": "Python 3"
    },
    "language_info": {
      "name": "python"
    }
  },
  "cells": [
    {
      "cell_type": "markdown",
      "metadata": {
        "id": "view-in-github",
        "colab_type": "text"
      },
      "source": [
        "<a href=\"https://colab.research.google.com/github/OscarLagravere/BTE-320-Colab-Examples/blob/main/Movie_Theater_Problem.ipynb\" target=\"_parent\"><img src=\"https://colab.research.google.com/assets/colab-badge.svg\" alt=\"Open In Colab\"/></a>"
      ]
    },
    {
      "cell_type": "markdown",
      "source": [
        "A movie theater manager is deciding how much to spend on advertsiing for an upcoming movie. Each ticket is $10. Without any advertising, 20 people are forecasted to attend. Additional people may attend based on advertising spending, estimated to be:\n",
        "\n",
        "Additional attendees = 2 * round(advertisingDollars**0.5)\n",
        "\n",
        "In addition to advertising costs , there are fixed costs to run the theater of $200.\n",
        "\n",
        "Write a program to generate a table for different advertising amounts and profits."
      ],
      "metadata": {
        "id": "AuV-UUC4Hn8b"
      }
    },
    {
      "cell_type": "code",
      "execution_count": 1,
      "metadata": {
        "colab": {
          "base_uri": "https://localhost:8080/"
        },
        "id": "42vdXMjyHS1X",
        "outputId": "d2e6935d-e005-48b6-b281-0322a1be4125"
      },
      "outputs": [
        {
          "output_type": "stream",
          "name": "stdout",
          "text": [
            "Ad$ Profit\n",
            "0 $0.0\n",
            "25 $75.0\n",
            "50 $90.0\n",
            "75 $105.0\n",
            "100 $100.0\n",
            "125 $95.0\n",
            "150 $90.0\n",
            "175 $85.0\n",
            "200 $80.0\n"
          ]
        }
      ],
      "source": [
        "print(f'Ad$ Profit')\n",
        "\n",
        "\n",
        "\n",
        "init_attendees = 20\n",
        "\n",
        "fixed_cost = 200\n",
        "\n",
        "\n",
        "\n",
        "for advertising in range(0, 201, 25):\n",
        "\n",
        "  attendees = float(2*round(advertising**0.5) + init_attendees)\n",
        "\n",
        "  profit = float((attendees * 10) - advertising - fixed_cost)\n",
        "\n",
        "  print(f'{advertising} ${profit}')"
      ]
    }
  ]
}