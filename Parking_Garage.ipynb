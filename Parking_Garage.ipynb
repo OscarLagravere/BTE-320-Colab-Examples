{
  "nbformat": 4,
  "nbformat_minor": 0,
  "metadata": {
    "colab": {
      "provenance": [],
      "authorship_tag": "ABX9TyNsS9SsW65L4fmbMBvmvsuL",
      "include_colab_link": true
    },
    "kernelspec": {
      "name": "python3",
      "display_name": "Python 3"
    },
    "language_info": {
      "name": "python"
    }
  },
  "cells": [
    {
      "cell_type": "markdown",
      "metadata": {
        "id": "view-in-github",
        "colab_type": "text"
      },
      "source": [
        "<a href=\"https://colab.research.google.com/github/OscarLagravere/BTE-320-Colab-Examples/blob/main/Parking_Garage.ipynb\" target=\"_parent\"><img src=\"https://colab.research.google.com/assets/colab-badge.svg\" alt=\"Open In Colab\"/></a>"
      ]
    },
    {
      "cell_type": "code",
      "execution_count": null,
      "metadata": {
        "id": "Vn2qOIlKQaiy"
      },
      "outputs": [],
      "source": [
        "def getParkingHours():\n",
        "  hours = int(input('Enter numeber of hours: '))\n",
        "  return hours\n",
        "\n",
        "def calcParkingFee(hours):\n",
        "  parkingfee = 2.5 * hours\n",
        "  if parkingfee <= 6:\n",
        "    return 6\n",
        "  elif parkingfee >= 20:\n",
        "    return 20\n",
        "  else:\n",
        "    return parkingfee\n",
        "\n",
        "hours = getParkingHours()\n",
        "fee = calcparkingFee (hours)\n",
        "print(f'Total charge: ${fee}')"
      ]
    }
  ]
}