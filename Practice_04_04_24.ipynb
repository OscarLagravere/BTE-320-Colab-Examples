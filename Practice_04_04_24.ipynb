{
  "nbformat": 4,
  "nbformat_minor": 0,
  "metadata": {
    "colab": {
      "provenance": [],
      "authorship_tag": "ABX9TyO/ZA66p6mJWj1m1qrNhlaN",
      "include_colab_link": true
    },
    "kernelspec": {
      "name": "python3",
      "display_name": "Python 3"
    },
    "language_info": {
      "name": "python"
    }
  },
  "cells": [
    {
      "cell_type": "markdown",
      "metadata": {
        "id": "view-in-github",
        "colab_type": "text"
      },
      "source": [
        "<a href=\"https://colab.research.google.com/github/OscarLagravere/BTE-320-Colab-Examples/blob/main/Practice_04_04_24.ipynb\" target=\"_parent\"><img src=\"https://colab.research.google.com/assets/colab-badge.svg\" alt=\"Open In Colab\"/></a>"
      ]
    },
    {
      "cell_type": "code",
      "execution_count": null,
      "metadata": {
        "id": "a5rNJ6lgEQ-r"
      },
      "outputs": [],
      "source": []
    },
    {
      "cell_type": "markdown",
      "source": [
        "Design a recursive function that takes a stream f(\"Hello\") and --> \"olleH\"\n",
        "\n",
        "inverse it"
      ],
      "metadata": {
        "id": "GBUoY0P4EZN8"
      }
    },
    {
      "cell_type": "code",
      "source": [
        "def inverse_string(s):\n",
        "  if len(s)<=1:\n",
        "    return s\n",
        "  else:\n",
        "    return s[-1] + inverse_string(s[:-1])\n",
        "\n",
        "print(inverse_string(\"Oscar\"))"
      ],
      "metadata": {
        "id": "c7_FsU4kEZ87",
        "outputId": "5f3e7684-4c22-4236-bdfc-9ccbe63619a0",
        "colab": {
          "base_uri": "https://localhost:8080/"
        }
      },
      "execution_count": 1,
      "outputs": [
        {
          "output_type": "stream",
          "name": "stdout",
          "text": [
            "racsO\n"
          ]
        }
      ]
    }
  ]
}