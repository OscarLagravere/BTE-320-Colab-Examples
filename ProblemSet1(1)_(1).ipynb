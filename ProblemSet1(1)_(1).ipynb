{
  "nbformat": 4,
  "nbformat_minor": 0,
  "metadata": {
    "colab": {
      "provenance": [],
      "include_colab_link": true
    },
    "kernelspec": {
      "name": "python3",
      "display_name": "Python 3"
    },
    "language_info": {
      "name": "python"
    }
  },
  "cells": [
    {
      "cell_type": "markdown",
      "metadata": {
        "id": "view-in-github",
        "colab_type": "text"
      },
      "source": [
        "<a href=\"https://colab.research.google.com/github/OscarLagravere/BTE-320-Colab-Examples/blob/main/ProblemSet1(1)_(1).ipynb\" target=\"_parent\"><img src=\"https://colab.research.google.com/assets/colab-badge.svg\" alt=\"Open In Colab\"/></a>"
      ]
    },
    {
      "cell_type": "markdown",
      "source": [
        "# Problem Set 2"
      ],
      "metadata": {
        "id": "mqKVIuY-mxNU"
      }
    },
    {
      "cell_type": "markdown",
      "source": [
        "## Assignment 1: Quality Control (7 points)\n",
        "\n",
        "A quality control manager would like to find the average weight of a list of weights. Prior experience indicates that the first two measures are atypical, and the practice is to exclude these from the average calculation.\n",
        "\n",
        "Write a program that calculates the average of a list of numbers that given as inputs from the user, excluding the first three values.\n",
        "\n",
        "For your program, you must define and use the following functions:\n",
        "- `getValues(n)`: Prompt the user for `n` values, returns the list\n",
        "- `calcAverage(alist)`: Calculates the average from the list"
      ],
      "metadata": {
        "id": "-RSYW1jVm08n"
      }
    },
    {
      "cell_type": "code",
      "execution_count": null,
      "metadata": {
        "id": "AqbgJkgNmvQw",
        "colab": {
          "base_uri": "https://localhost:8080/"
        },
        "outputId": "2c053642-e361-4636-8e1e-e9d348976568"
      },
      "outputs": [
        {
          "output_type": "stream",
          "name": "stdout",
          "text": [
            "How many weights do yoy want to give?5\n",
            "Enter a weight: 4\n",
            "Enter a weight: 5\n",
            "Enter a weight: 8\n",
            "Enter a weight: 7\n",
            "Enter a weight: 3\n",
            "Average weight: 6.0\n"
          ]
        }
      ],
      "source": [
        "def getValues(n):\n",
        "  weights=[]\n",
        "  for i in range(n):\n",
        "    weight= float(input(\"Enter a weight: \"))\n",
        "    weights.append(weight)\n",
        "\n",
        "  return weights[2:]\n",
        "\n",
        "def calcAverage(alist):\n",
        "  return sum(alist)/len(alist)\n",
        "\n",
        "n=int(input('How many weights do yoy want to give?'))\n",
        "L= getValues(n)\n",
        "avg= calcAverage(L)\n",
        "print(f'Average weight: {avg}')"
      ]
    },
    {
      "cell_type": "markdown",
      "source": [
        "## Assignment 2: Country Statistics Lookup-Multiple Measures (6 points)\n",
        "\n",
        "Assume a program begins with the statement:\n",
        "\n",
        "```python\n",
        "allData = { # dictionary of values for countries\n",
        "    'US': {'pop':325.7, 'gdp': 19.39, 'ccy': 'USD', 'fx':  1.0},\n",
        "    'CA': {'pop': 36.5, 'gdp':  1.65, 'ccy': 'CAD', 'fx':  1.35},\n",
        "    'MX': {'pop':129.2, 'gdp':  1.15, 'ccy': 'MXN', 'fx': 19.68}\n",
        "    }\n",
        "```\n",
        "\n",
        "Write subsequent statements that (in a loop) prompt the user for a country code (`US`, `CA`, or `MX`), then prompt for a measure name (`pop`, `gdp`, `ccy`, or `fx`), then look up in the above dictionary for the corresponding value, and display it.\n",
        "\n",
        "Example run:\n",
        "```\n",
        "Please enter a country code: CA\n",
        "Please enter a statistic: pop\n",
        "CA pop = 36.5\n",
        "```\n",
        "\n",
        "Your program should handle the cases where a user-entered country code or measure name is not found."
      ],
      "metadata": {
        "id": "QFO0Kzx8ncnv"
      }
    },
    {
      "cell_type": "code",
      "source": [
        "allData = { # dictionary of values for countries\n",
        "    'US': {'pop':325.7, 'gdp': 19.39, 'ccy': 'USD', 'fx':  1.0},\n",
        "    'CA': {'pop': 36.5, 'gdp':  1.65, 'ccy': 'CAD', 'fx':  1.35},\n",
        "    'MX': {'pop':129.2, 'gdp':  1.15, 'ccy': 'MXN', 'fx': 19.68}\n",
        "    }\n",
        "\n",
        "while True:\n",
        "  CountryCode = input('Enter country code (or type exit if you want to stop):')\n",
        "  if CountryCode == 'exit':\n",
        "    break\n",
        "  if CountryCode not in allData.keys():\n",
        "    print('This coutnry code does not extis')\n",
        "    continue\n",
        "  Stat = input('Enter stat input')\n",
        "  if Stat not in allData[CountryCode].keys():\n",
        "    print('Invalid Stat')\n",
        "    continue\n",
        "\n",
        "  if Stat == 'pop':\n",
        "    print(f'Population = {allData[CountryCode]})\n",
        "\n",
        "\n",
        "\n",
        "  print(allData[CountryCode][Stat])"
      ],
      "metadata": {
        "id": "NZFjRINKowEW"
      },
      "execution_count": null,
      "outputs": []
    },
    {
      "cell_type": "code",
      "source": [
        "allData = { # dictionary of values for countries\n",
        "    'US': {'pop':325.7, 'gdp': 19.39, 'ccy': 'USD', 'fx':  1.0},\n",
        "    'CA': {'pop': 36.5, 'gdp':  1.65, 'ccy': 'CAD', 'fx':  1.35},\n",
        "    'MX': {'pop':129.2, 'gdp':  1.15, 'ccy': 'MXN', 'fx': 19.68}\n",
        "    }\n",
        "\n",
        "while True:\n",
        "  CountryCode = input('Enter country code')\n",
        "  step1 = allData [CountryCode]\n",
        "  Stat = input('Enter stat input')\n",
        "  Stats = step1[Stat]\n",
        "  print(Stats)"
      ],
      "metadata": {
        "id": "xWWTsbf9gcPo"
      },
      "execution_count": null,
      "outputs": []
    },
    {
      "cell_type": "markdown",
      "source": [
        "## Assignment 3: Parking Garage (6 points)\n",
        "\n",
        "Write a program to compute the fee for parking in a garage for a number of hours.\n",
        "\n",
        "The program should:\n",
        "- Prompt the user for how many hours parked\n",
        "- Calculate the fee based on the following rules:\n",
        "  - $2.50/hour\n",
        "\n",
        "  - minimum fee is $6.00\n",
        "\n",
        "  - maximum fee is $20.00\n",
        "- Print the result\n",
        "\n",
        "For your program, define and use the following two functions:\n",
        "```python\n",
        "# use input() to prompt for the # of hours parked, return this value\n",
        "def getParkingHours()\n",
        "\n",
        "# takes as input hours (a number), returns the parking fee\n",
        "def calcParkingFee()\n",
        "```"
      ],
      "metadata": {
        "id": "GjaUFrnfpKFf"
      }
    },
    {
      "cell_type": "code",
      "source": [
        "def getParkingHours():\n",
        "  hours = int(input('Enter numeber of hours: '))\n",
        "  return hours\n",
        "\n",
        "def calcParkingFee(hours):\n",
        "  parkingfee = 2.5 * hours\n",
        "  if parkingfee <= 6:\n",
        "    return 6\n",
        "  elif parkingfee >= 20:\n",
        "    return 20\n",
        "  else:\n",
        "    return parkingfee\n",
        "\n",
        "hours = getParkingHours()\n",
        "fee = calcparkingFee (hours)\n",
        "print(f'Total charge: ${fee}')"
      ],
      "metadata": {
        "id": "5ha4O3V5pwNN"
      },
      "execution_count": null,
      "outputs": []
    },
    {
      "cell_type": "markdown",
      "source": [
        "## Assignment 4: Tuition (6 points)\n",
        "\n",
        "A college charges tuition according to the following:\n",
        "- 12 or more credits: $20,000/semester\n",
        "\n",
        "- 1-11 credits: $1,200 + $1,700 per credit\n",
        "\n",
        "Write a program that prompts the user for a number of credits and determines and displays the tuition for the semester. As part of your program, define and use the following function:\n",
        "```python\n",
        "def calcTuition(credits)\n",
        "```\n",
        "The function returns the tuition for a given number of credits"
      ],
      "metadata": {
        "id": "gipBObe5qm-2"
      }
    },
    {
      "cell_type": "code",
      "source": [
        "def calcTuition(credits)\n",
        "  credits = input ('Enter amount of credits')\n",
        "  if credits >= 12\n",
        "    print ('$20,000')\n",
        "  elif credits <= 11\n",
        "    print (1,200 + ( 1,700 * credits))\n",
        "  else\n",
        "    print 0\n",
        "\n",
        "\n",
        "\n",
        "  credits = userinput"
      ],
      "metadata": {
        "id": "BPcn9ywzrL8y"
      },
      "execution_count": null,
      "outputs": []
    },
    {
      "cell_type": "code",
      "source": [
        "def calcTuition(credits)\n",
        "  if credits >=12:\n",
        "    print(f'Tuition = 20000$')\n",
        "  elif credits <12 and credits >=1:\n",
        "    print (f'Tuition = {1200 + 1700 * credits}$')\n",
        "  else:\n",
        "    print('Invalid # of credits: {credits}')\n",
        "\n",
        "credits = int(input('Enter number of credits '))\n",
        "calcTuition(credits)"
      ],
      "metadata": {
        "id": "kgjJv4BSg0HR"
      },
      "execution_count": null,
      "outputs": []
    }
  ]
}