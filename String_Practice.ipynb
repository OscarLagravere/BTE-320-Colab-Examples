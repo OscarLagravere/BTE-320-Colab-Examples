{
  "nbformat": 4,
  "nbformat_minor": 0,
  "metadata": {
    "colab": {
      "provenance": [],
      "authorship_tag": "ABX9TyNwZf0JYIzhGmhUmb2z4HB7",
      "include_colab_link": true
    },
    "kernelspec": {
      "name": "python3",
      "display_name": "Python 3"
    },
    "language_info": {
      "name": "python"
    }
  },
  "cells": [
    {
      "cell_type": "markdown",
      "metadata": {
        "id": "view-in-github",
        "colab_type": "text"
      },
      "source": [
        "<a href=\"https://colab.research.google.com/github/OscarLagravere/BTE-320-Colab-Examples/blob/main/String_Practice.ipynb\" target=\"_parent\"><img src=\"https://colab.research.google.com/assets/colab-badge.svg\" alt=\"Open In Colab\"/></a>"
      ]
    },
    {
      "cell_type": "code",
      "execution_count": 7,
      "metadata": {
        "colab": {
          "base_uri": "https://localhost:8080/"
        },
        "id": "pJ2UFxX7-3Qx",
        "outputId": "0737b3db-ac10-47de-ff0f-12cf4a7ba89b"
      },
      "outputs": [
        {
          "output_type": "stream",
          "name": "stdout",
          "text": [
            "Letter c is common in both strings\n",
            "Letter a is common in both strings\n"
          ]
        }
      ],
      "source": [
        "#Use a loop and a conditional\n",
        "\n",
        "s1= 'Visca'\n",
        "s2= 'Barca'\n",
        "\n",
        "max_length = max(len(s1), len(s2))\n",
        "\n",
        "if len(s1) == len(s2):\n",
        "  for char in s1:\n",
        "    if char in s2:\n",
        "      print('Letter', char, 'is common in both strings')"
      ]
    }
  ]
}