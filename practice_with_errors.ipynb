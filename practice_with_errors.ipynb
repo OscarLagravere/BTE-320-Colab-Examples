{
  "nbformat": 4,
  "nbformat_minor": 0,
  "metadata": {
    "colab": {
      "provenance": [],
      "authorship_tag": "ABX9TyP6INKX5gzxv3Lb2Bzectxl",
      "include_colab_link": true
    },
    "kernelspec": {
      "name": "python3",
      "display_name": "Python 3"
    },
    "language_info": {
      "name": "python"
    }
  },
  "cells": [
    {
      "cell_type": "markdown",
      "metadata": {
        "id": "view-in-github",
        "colab_type": "text"
      },
      "source": [
        "<a href=\"https://colab.research.google.com/github/OscarLagravere/BTE-320-Colab-Examples/blob/main/practice_with_errors.ipynb\" target=\"_parent\"><img src=\"https://colab.research.google.com/assets/colab-badge.svg\" alt=\"Open In Colab\"/></a>"
      ]
    },
    {
      "cell_type": "code",
      "execution_count": null,
      "metadata": {
        "colab": {
          "base_uri": "https://localhost:8080/"
        },
        "id": "Tr9-Ezgr3BsS",
        "outputId": "3c150a54-606d-4ab8-cbc9-1b4c764b5bd4"
      },
      "outputs": [
        {
          "output_type": "stream",
          "name": "stdout",
          "text": [
            "Average of test_list1: 3.0\n",
            "Error: List contains non-numeric values.\n",
            "Average of test_list: None\n"
          ]
        }
      ],
      "source": [
        "def calculate_average(alist):\n",
        "    try:\n",
        "        average = sum(alist) / len(alist)\n",
        "        return average\n",
        "    except ZeroDivisionError:\n",
        "        print(\"Error: Cannot calculate average for an empty list.\")\n",
        "        return None\n",
        "    except TypeError:\n",
        "        print(\"Error: List contains non-numeric values.\")\n",
        "        return None\n",
        "\n",
        "test_list1 = [1, 2, 3, 4, 5]\n",
        "print(\"Average of test_list1:\", calculate_average(test_list1))\n",
        "\n",
        "test_list = [1, 2, 'a', 4, 5]\n",
        "print(\"Average of test_list:\", calculate_average(test_list))"
      ]
    },
    {
      "cell_type": "code",
      "source": [
        "def listAvg(alist):\n",
        "  try:\n",
        "    return sum(alist) / len(alist)\n",
        "  except TypeError:\n",
        "    print('The list does not contain numbers only')\n",
        "    return None\n",
        "  except ZeroDivisionError:\n",
        "    print('The list is empty')\n",
        "    return float('nan')\n",
        "\n",
        "l=[1,2,3]\n",
        "listAvg(1)"
      ],
      "metadata": {
        "id": "3unCVYH96Hit",
        "outputId": "542a32d7-ff90-4a36-a7e0-480c7db2d55c",
        "colab": {
          "base_uri": "https://localhost:8080/"
        }
      },
      "execution_count": 1,
      "outputs": [
        {
          "output_type": "stream",
          "name": "stdout",
          "text": [
            "The list does not contain numbers only\n"
          ]
        }
      ]
    }
  ]
}